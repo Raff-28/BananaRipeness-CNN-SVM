{
 "cells": [
  {
   "cell_type": "code",
   "execution_count": 1,
   "id": "2f5865de",
   "metadata": {},
   "outputs": [],
   "source": [
    "from tensorflow.compat.v1 import ConfigProto\n",
    "from tensorflow.compat.v1 import InteractiveSession\n",
    "\n",
    "config = ConfigProto()\n",
    "config.gpu_options.per_process_gpu_memory_fraction = 0.9\n",
    "config.gpu_options.allow_growth = True\n",
    "session = InteractiveSession(config=config)"
   ]
  },
  {
   "cell_type": "code",
   "execution_count": 2,
   "id": "8261f4ff",
   "metadata": {},
   "outputs": [
    {
     "data": {
      "text/plain": [
       "'2.12.0'"
      ]
     },
     "execution_count": 2,
     "metadata": {},
     "output_type": "execute_result"
    }
   ],
   "source": [
    "import tensorflow as tf\n",
    "tf.__version__"
   ]
  },
  {
   "cell_type": "code",
   "execution_count": 3,
   "id": "0e23058c",
   "metadata": {},
   "outputs": [],
   "source": [
    "import os\n",
    "import random\n",
    "import shutil\n",
    "import pandas as pd\n",
    "from PIL import Image\n",
    "\n",
    "# Set the path to the dataset folder\n",
    "dataset_folder = 'dataset_banana'\n",
    "\n",
    "# Set the percentage of images to use for training\n",
    "train_percentage = 0.8\n",
    "\n",
    "# Get the list of class folders in the dataset folder\n",
    "class_folders = os.listdir(dataset_folder)\n",
    "\n",
    "# Create the train and test directories\n",
    "train_dir = os.path.join(dataset_folder, 'train')\n",
    "test_dir = os.path.join(dataset_folder, 'test')\n",
    "os.makedirs(train_dir, exist_ok=True)\n",
    "os.makedirs(test_dir, exist_ok=True)\n",
    "\n",
    "# Randomly split the images into train and test directories\n",
    "for class_folder in class_folders:\n",
    "    class_images = os.listdir(os.path.join(dataset_folder, class_folder))\n",
    "    random.shuffle(class_images)\n",
    "    train_count = int(len(class_images) * train_percentage)\n",
    "    train_images = class_images[:train_count]\n",
    "    test_images = class_images[train_count:]\n",
    "    \n",
    "    # Move and convert the train images to the train directory\n",
    "    for image in train_images:\n",
    "        src = os.path.join(dataset_folder, class_folder, image)\n",
    "        dst = os.path.join(train_dir, class_folder, image)\n",
    "        os.makedirs(os.path.dirname(dst), exist_ok=True)\n",
    "        \n",
    "        # Convert GIF images to JPEG\n",
    "        if image.endswith('.gif'):\n",
    "            im = Image.open(src)\n",
    "            im.convert('RGB').save(dst.replace('.gif', '.jpg'), 'JPEG')\n",
    "        else:\n",
    "            shutil.copyfile(src, dst)\n",
    "    \n",
    "    # Move and convert the test images to the test directory\n",
    "    for image in test_images:\n",
    "        src = os.path.join(dataset_folder, class_folder, image)\n",
    "        dst = os.path.join(test_dir, class_folder, image)\n",
    "        os.makedirs(os.path.dirname(dst), exist_ok=True)\n",
    "        \n",
    "        # Convert GIF images to JPEG\n",
    "        if image.endswith('.gif'):\n",
    "            im = Image.open(src)\n",
    "            im.convert('RGB').save(dst.replace('.gif', '.jpg'), 'JPEG')\n",
    "        else:\n",
    "            shutil.copyfile(src, dst)"
   ]
  },
  {
   "cell_type": "code",
   "execution_count": 3,
   "id": "8e608628",
   "metadata": {},
   "outputs": [
    {
     "name": "stdout",
     "output_type": "stream",
     "text": [
      "Found 240 images belonging to 2 classes.\n",
      "Found 60 images belonging to 2 classes.\n"
     ]
    }
   ],
   "source": [
    "from tensorflow.keras.preprocessing.image import ImageDataGenerator\n",
    "\n",
    "# Operasi pra proses data training\n",
    "train_datagen = ImageDataGenerator(rescale = 1./255,\n",
    "                                   shear_range = 0.2,\n",
    "                                   zoom_range = 0.2,\n",
    "                                   horizontal_flip = True)\n",
    "\n",
    "# Operasi pra proses data testing\n",
    "test_datagen = ImageDataGenerator(rescale = 1./255)\n",
    "\n",
    "# Load Data training\n",
    "training_set = train_datagen.flow_from_directory('dataset_banana/train',\n",
    "                                                 target_size = (64, 64),\n",
    "                                                 batch_size = 32,\n",
    "                                                 class_mode = 'binary')\n",
    "\n",
    "# Load Data testing\n",
    "test_set = test_datagen.flow_from_directory('dataset_banana/test',\n",
    "                                            target_size = (64, 64),\n",
    "                                            batch_size = 32,\n",
    "                                            class_mode = 'binary')"
   ]
  },
  {
   "cell_type": "code",
   "execution_count": 5,
   "id": "5a66c274",
   "metadata": {},
   "outputs": [],
   "source": [
    "from tensorflow.keras.layers import Conv2D\n",
    "from tensorflow.keras.layers import Dense\n",
    "from tensorflow.keras.regularizers import l2"
   ]
  },
  {
   "cell_type": "code",
   "execution_count": 6,
   "id": "f57b355d",
   "metadata": {},
   "outputs": [],
   "source": [
    "# Pembuatan struktur model CNN\n",
    "\n",
    "#Inisialisasi CNN\n",
    "cnn = tf.keras.models.Sequential()\n",
    "\n",
    "#Step 1 - layer konvolusi\n",
    "cnn.add(tf.keras.layers.Conv2D(filters=32,padding=\"same\",kernel_size=3, activation='relu', strides=2, input_shape=[64, 64, 3]))\n",
    "\n",
    "#Step 2 - Layer pooling\n",
    "cnn.add(tf.keras.layers.MaxPool2D(pool_size=2, strides=2))\n",
    "\n",
    "# Layer konvolusi kedua\n",
    "cnn.add(tf.keras.layers.Conv2D(filters=32,padding='same',kernel_size=3, activation='relu'))\n",
    "cnn.add(tf.keras.layers.MaxPool2D(pool_size=2, strides=2))\n",
    "\n",
    "#Step 3 - Flattening\n",
    "cnn.add(tf.keras.layers.Flatten())\n",
    "\n",
    "#Step 4 - Full Connection\n",
    "cnn.add(tf.keras.layers.Dense(units=128, activation='relu'))\n",
    "\n",
    "#Step 5 - Layer output (digunakan SVM linear untuk binary classification)\n",
    "cnn.add(Dense(1, kernel_regularizer=tf.keras.regularizers.l2(0.01),activation='linear'))"
   ]
  },
  {
   "cell_type": "code",
   "execution_count": 8,
   "id": "b555212e",
   "metadata": {},
   "outputs": [
    {
     "name": "stdout",
     "output_type": "stream",
     "text": [
      "Model: \"sequential\"\n",
      "_________________________________________________________________\n",
      " Layer (type)                Output Shape              Param #   \n",
      "=================================================================\n",
      " conv2d (Conv2D)             (None, 32, 32, 32)        896       \n",
      "                                                                 \n",
      " max_pooling2d (MaxPooling2D  (None, 16, 16, 32)       0         \n",
      " )                                                               \n",
      "                                                                 \n",
      " conv2d_1 (Conv2D)           (None, 16, 16, 32)        9248      \n",
      "                                                                 \n",
      " max_pooling2d_1 (MaxPooling  (None, 8, 8, 32)         0         \n",
      " 2D)                                                             \n",
      "                                                                 \n",
      " flatten (Flatten)           (None, 2048)              0         \n",
      "                                                                 \n",
      " dense (Dense)               (None, 128)               262272    \n",
      "                                                                 \n",
      " dense_1 (Dense)             (None, 1)                 129       \n",
      "                                                                 \n",
      "=================================================================\n",
      "Total params: 272,545\n",
      "Trainable params: 272,545\n",
      "Non-trainable params: 0\n",
      "_________________________________________________________________\n"
     ]
    }
   ],
   "source": [
    "cnn.summary()"
   ]
  },
  {
   "cell_type": "code",
   "execution_count": 9,
   "id": "aeda8620",
   "metadata": {},
   "outputs": [
    {
     "name": "stderr",
     "output_type": "stream",
     "text": [
      "C:\\ProgramData\\Anaconda3\\lib\\site-packages\\PIL\\Image.py:959: UserWarning: Palette images with Transparency expressed in bytes should be converted to RGBA images\n",
      "  warnings.warn(\n"
     ]
    },
    {
     "name": "stdout",
     "output_type": "stream",
     "text": [
      "Epoch 1/15\n",
      "8/8 [==============================] - 8s 943ms/step - loss: 0.9626 - accuracy: 0.5167 - val_loss: 1.0229 - val_accuracy: 0.5000\n",
      "Epoch 2/15\n",
      "8/8 [==============================] - 6s 729ms/step - loss: 0.8697 - accuracy: 0.5583 - val_loss: 0.9503 - val_accuracy: 0.6000\n",
      "Epoch 3/15\n",
      "8/8 [==============================] - 6s 700ms/step - loss: 0.7770 - accuracy: 0.6875 - val_loss: 1.0350 - val_accuracy: 0.5333\n",
      "Epoch 4/15\n",
      "8/8 [==============================] - 6s 758ms/step - loss: 0.6912 - accuracy: 0.6875 - val_loss: 1.0426 - val_accuracy: 0.5833\n",
      "Epoch 5/15\n",
      "8/8 [==============================] - 6s 751ms/step - loss: 0.7850 - accuracy: 0.7042 - val_loss: 0.8232 - val_accuracy: 0.5667\n",
      "Epoch 6/15\n",
      "8/8 [==============================] - 6s 739ms/step - loss: 0.5827 - accuracy: 0.7083 - val_loss: 0.7474 - val_accuracy: 0.6333\n",
      "Epoch 7/15\n",
      "8/8 [==============================] - 6s 778ms/step - loss: 0.5356 - accuracy: 0.7500 - val_loss: 0.7263 - val_accuracy: 0.6833\n",
      "Epoch 8/15\n",
      "8/8 [==============================] - 6s 697ms/step - loss: 0.5571 - accuracy: 0.7458 - val_loss: 0.8192 - val_accuracy: 0.6833\n",
      "Epoch 9/15\n",
      "8/8 [==============================] - 6s 740ms/step - loss: 0.5526 - accuracy: 0.7625 - val_loss: 0.6955 - val_accuracy: 0.6667\n",
      "Epoch 10/15\n",
      "8/8 [==============================] - 6s 745ms/step - loss: 0.5100 - accuracy: 0.8042 - val_loss: 0.7323 - val_accuracy: 0.6667\n",
      "Epoch 11/15\n",
      "8/8 [==============================] - 6s 731ms/step - loss: 0.5231 - accuracy: 0.7333 - val_loss: 0.7390 - val_accuracy: 0.6833\n",
      "Epoch 12/15\n",
      "8/8 [==============================] - 6s 755ms/step - loss: 0.4472 - accuracy: 0.7833 - val_loss: 0.7263 - val_accuracy: 0.6500\n",
      "Epoch 13/15\n",
      "8/8 [==============================] - 6s 725ms/step - loss: 0.4407 - accuracy: 0.7667 - val_loss: 0.7022 - val_accuracy: 0.7167\n",
      "Epoch 14/15\n",
      "8/8 [==============================] - 6s 685ms/step - loss: 0.4020 - accuracy: 0.8208 - val_loss: 0.6984 - val_accuracy: 0.6667\n",
      "Epoch 15/15\n",
      "8/8 [==============================] - 6s 743ms/step - loss: 0.3913 - accuracy: 0.8125 - val_loss: 0.7460 - val_accuracy: 0.7167\n"
     ]
    }
   ],
   "source": [
    "# Tahap Training CNN\n",
    "\n",
    "#Compile CNN\n",
    "cnn.compile(optimizer = 'adam', loss = 'hinge', metrics = ['accuracy'])\n",
    "\n",
    "#Melatih CNN dengan training set dan evaluasi dengan test set\n",
    "r=cnn.fit(x = training_set, validation_data = test_set, epochs = 15)"
   ]
  },
  {
   "cell_type": "code",
   "execution_count": 10,
   "id": "c72c9b55",
   "metadata": {},
   "outputs": [
    {
     "data": {
      "image/png": "[encoded data removed]",
      "text/plain": [
       "<Figure size 640x480 with 1 Axes>"
      ]
     },
     "metadata": {},
     "output_type": "display_data"
    },
    {
     "data": {
      "image/png": "[encoded data removed]",
      "text/plain": [
       "<Figure size 640x480 with 1 Axes>"
      ]
     },
     "metadata": {},
     "output_type": "display_data"
    },
    {
     "data": {
      "text/plain": [
       "<Figure size 640x480 with 0 Axes>"
      ]
     },
     "metadata": {},
     "output_type": "display_data"
    }
   ],
   "source": [
    "# Plotting loss\n",
    "import matplotlib.pyplot as plt\n",
    "plt.plot(r.history['loss'], label='train loss')\n",
    "plt.plot(r.history['val_loss'], label='val loss')\n",
    "plt.legend()\n",
    "plt.show()\n",
    "\n",
    "# Plotting akurasi\n",
    "plt.plot(r.history['accuracy'], label='train acc')\n",
    "plt.plot(r.history['val_accuracy'], label='val acc')\n",
    "plt.legend()\n",
    "plt.show()"
   ]
  },
  {
   "cell_type": "code",
   "execution_count": 12,
   "id": "7965c119",
   "metadata": {},
   "outputs": [
    {
     "name": "stdout",
     "output_type": "stream",
     "text": [
      "Model: \"sequential\"\n",
      "_________________________________________________________________\n",
      " Layer (type)                Output Shape              Param #   \n",
      "=================================================================\n",
      " conv2d (Conv2D)             (None, 32, 32, 32)        896       \n",
      "                                                                 \n",
      " max_pooling2d (MaxPooling2D  (None, 16, 16, 32)       0         \n",
      " )                                                               \n",
      "                                                                 \n",
      " conv2d_1 (Conv2D)           (None, 16, 16, 32)        9248      \n",
      "                                                                 \n",
      " max_pooling2d_1 (MaxPooling  (None, 8, 8, 32)         0         \n",
      " 2D)                                                             \n",
      "                                                                 \n",
      " flatten (Flatten)           (None, 2048)              0         \n",
      "                                                                 \n",
      " dense (Dense)               (None, 128)               262272    \n",
      "                                                                 \n",
      " dense_1 (Dense)             (None, 1)                 129       \n",
      "                                                                 \n",
      "=================================================================\n",
      "Total params: 272,545\n",
      "Trainable params: 272,545\n",
      "Non-trainable params: 0\n",
      "_________________________________________________________________\n"
     ]
    }
   ],
   "source": [
    "from tensorflow.keras.models import load_model\n",
    "\n",
    "#Simpan model sebagai file\n",
    "cnn.save('model_banana_ripeness.h5')\n",
    "\n",
    "#Load model\n",
    "model = load_model('model_banana_ripeness.h5')\n",
    "\n",
    "model.summary()"
   ]
  },
  {
   "cell_type": "code",
   "execution_count": 15,
   "id": "8696124f",
   "metadata": {},
   "outputs": [
    {
     "name": "stdout",
     "output_type": "stream",
     "text": [
      "1/1 [==============================] - 0s 14ms/step\n"
     ]
    }
   ],
   "source": [
    "# Tes melakukan prediksi kematangan pisang\n",
    "\n",
    "import numpy as np\n",
    "from tensorflow.keras.preprocessing import image\n",
    "test_image = image.load_img('dataset_banana/test/fully_ripe/Image_4.jpg', target_size = (64,64))\n",
    "test_image = image.img_to_array(test_image)\n",
    "test_image = test_image/255\n",
    "test_image = np.expand_dims(test_image, axis = 0)\n",
    "result = cnn.predict(test_image)"
   ]
  },
  {
   "cell_type": "code",
   "execution_count": 16,
   "id": "ade32765",
   "metadata": {},
   "outputs": [
    {
     "data": {
      "text/plain": [
       "array([[-1.3964919]], dtype=float32)"
      ]
     },
     "execution_count": 16,
     "metadata": {},
     "output_type": "execute_result"
    }
   ],
   "source": [
    "result"
   ]
  },
  {
   "cell_type": "code",
   "execution_count": 17,
   "id": "3acf8d42",
   "metadata": {},
   "outputs": [
    {
     "name": "stdout",
     "output_type": "stream",
     "text": [
      "1/1 [==============================] - 0s 13ms/step\n"
     ]
    }
   ],
   "source": [
    "import numpy as np\n",
    "from tensorflow.keras.preprocessing import image\n",
    "test_image = image.load_img('dataset_banana/test/unripe/Image_12.jpg', target_size = (64,64))\n",
    "test_image = image.img_to_array(test_image)\n",
    "test_image = test_image/255\n",
    "test_image = np.expand_dims(test_image, axis = 0)\n",
    "result = cnn.predict(test_image)"
   ]
  },
  {
   "cell_type": "code",
   "execution_count": 18,
   "id": "ff02cda7",
   "metadata": {},
   "outputs": [
    {
     "data": {
      "text/plain": [
       "array([[2.9251952]], dtype=float32)"
      ]
     },
     "execution_count": 18,
     "metadata": {},
     "output_type": "execute_result"
    }
   ],
   "source": [
    "result"
   ]
  }
 ],
 "metadata": {
  "kernelspec": {
   "display_name": "Python 3 (ipykernel)",
   "language": "python",
   "name": "python3"
  },
  "language_info": {
   "codemirror_mode": {
    "name": "ipython",
    "version": 3
   },
   "file_extension": ".py",
   "mimetype": "text/x-python",
   "name": "python",
   "nbconvert_exporter": "python",
   "pygments_lexer": "ipython3",
   "version": "3.9.13"
  }
 },
 "nbformat": 4,
 "nbformat_minor": 5
}
