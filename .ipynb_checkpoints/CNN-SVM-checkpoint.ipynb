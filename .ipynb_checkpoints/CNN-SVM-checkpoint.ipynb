{
 "cells": [
  {
   "cell_type": "code",
   "execution_count": 1,
   "id": "2f5865de",
   "metadata": {},
   "outputs": [],
   "source": [
    "import os\n",
    "from tensorflow.compat.v1 import ConfigProto\n",
    "from tensorflow.compat.v1 import InteractiveSession\n",
    "\n",
    "os.environ[\"CUDA_VISIBLE_DEVICES\"] = \"0\"\n",
    "\n",
    "config = ConfigProto()\n",
    "config.gpu_options.per_process_gpu_memory_fraction = 0.9\n",
    "config.gpu_options.allow_growth = True\n",
    "session = InteractiveSession(config=config)"
   ]
  },
  {
   "cell_type": "code",
   "execution_count": 2,
   "id": "8261f4ff",
   "metadata": {},
   "outputs": [],
   "source": [
    "import tensorflow as tf\n",
    "tf.__version__\n",
    "\n",
    "import random\n",
    "import shutil\n",
    "import pandas as pd\n",
    "from PIL import Image"
   ]
  },
  {
   "cell_type": "code",
   "execution_count": null,
   "id": "0e23058c",
   "metadata": {},
   "outputs": [],
   "source": [
    "# Set the path to the dataset folder\n",
    "dataset_folder = 'dataset_banana'\n",
    "\n",
    "# Set the percentage of images to use for training\n",
    "train_percentage = 0.8\n",
    "\n",
    "# Get the list of class folders in the dataset folder\n",
    "class_folders = os.listdir(dataset_folder)\n",
    "\n",
    "# Create the train and test directories\n",
    "train_dir = os.path.join(dataset_folder, 'train')\n",
    "test_dir = os.path.join(dataset_folder, 'test')\n",
    "os.makedirs(train_dir, exist_ok=True)\n",
    "os.makedirs(test_dir, exist_ok=True)\n",
    "\n",
    "# Randomly split the images into train and test directories\n",
    "for class_folder in class_folders:\n",
    "    class_images = os.listdir(os.path.join(dataset_folder, class_folder))\n",
    "    random.shuffle(class_images)\n",
    "    train_count = int(len(class_images) * train_percentage)\n",
    "    train_images = class_images[:train_count]\n",
    "    test_images = class_images[train_count:]\n",
    "    \n",
    "    # Move and convert the train images to the train directory\n",
    "    for image in train_images:\n",
    "        src = os.path.join(dataset_folder, class_folder, image)\n",
    "        dst = os.path.join(train_dir, class_folder, image)\n",
    "        os.makedirs(os.path.dirname(dst), exist_ok=True)\n",
    "        \n",
    "        # Convert GIF images to JPEG\n",
    "        if image.endswith('.gif'):\n",
    "            im = Image.open(src)\n",
    "            im.convert('RGB').save(dst.replace('.gif', '.jpg'), 'JPEG')\n",
    "        else:\n",
    "            shutil.copyfile(src, dst)\n",
    "    \n",
    "    # Move and convert the test images to the test directory\n",
    "    for image in test_images:\n",
    "        src = os.path.join(dataset_folder, class_folder, image)\n",
    "        dst = os.path.join(test_dir, class_folder, image)\n",
    "        os.makedirs(os.path.dirname(dst), exist_ok=True)\n",
    "        \n",
    "        # Convert GIF images to JPEG\n",
    "        if image.endswith('.gif'):\n",
    "            im = Image.open(src)\n",
    "            im.convert('RGB').save(dst.replace('.gif', '.jpg'), 'JPEG')\n",
    "        else:\n",
    "            shutil.copyfile(src, dst)"
   ]
  },
  {
   "cell_type": "code",
   "execution_count": 3,
   "id": "8e608628",
   "metadata": {},
   "outputs": [
    {
     "name": "stdout",
     "output_type": "stream",
     "text": [
      "Found 240 images belonging to 2 classes.\n",
      "Found 60 images belonging to 2 classes.\n"
     ]
    }
   ],
   "source": [
    "from tensorflow.keras.preprocessing.image import ImageDataGenerator\n",
    "\n",
    "# Operasi pra proses data training\n",
    "train_datagen = ImageDataGenerator(rescale = 1./255,\n",
    "                                   shear_range = 0.2,\n",
    "                                   zoom_range = 0.2,\n",
    "                                   horizontal_flip = True)\n",
    "\n",
    "# Operasi pra proses data testing\n",
    "test_datagen = ImageDataGenerator(rescale = 1./255)\n",
    "\n",
    "# Load Data training\n",
    "training_set = train_datagen.flow_from_directory('dataset_banana/train',\n",
    "                                                 target_size = (64, 64),\n",
    "                                                 batch_size = 32,\n",
    "                                                 class_mode = 'binary')\n",
    "\n",
    "# Load Data testing\n",
    "test_set = test_datagen.flow_from_directory('dataset_banana/test',\n",
    "                                            target_size = (64, 64),\n",
    "                                            batch_size = 32,\n",
    "                                            class_mode = 'binary')"
   ]
  },
  {
   "cell_type": "code",
   "execution_count": 4,
   "id": "5a66c274",
   "metadata": {},
   "outputs": [],
   "source": [
    "from tensorflow.keras.layers import Conv2D\n",
    "from tensorflow.keras.layers import Dense\n",
    "from tensorflow.keras.regularizers import l2"
   ]
  },
  {
   "cell_type": "code",
   "execution_count": 5,
   "id": "d26905d6",
   "metadata": {},
   "outputs": [],
   "source": [
    "# Pembuatan struktur model CNN\n",
    "\n",
    "#Inisialisasi CNN\n",
    "cnn = tf.keras.models.Sequential()\n",
    "\n",
    "#Step 1 - layer konvolusi\n",
    "cnn.add(tf.keras.layers.Conv2D(filters=32,padding=\"same\",kernel_size=3, activation='relu', strides=2, input_shape=[64, 64, 3]))\n",
    "\n",
    "#Step 2 - Layer pooling\n",
    "cnn.add(tf.keras.layers.MaxPool2D(pool_size=2, strides=2))\n",
    "\n",
    "# Layer konvolusi kedua\n",
    "cnn.add(tf.keras.layers.Conv2D(filters=32,padding='same',kernel_size=3, activation='relu'))\n",
    "cnn.add(tf.keras.layers.MaxPool2D(pool_size=2, strides=2))\n",
    "\n",
    "#Step 3 - Flattening\n",
    "cnn.add(tf.keras.layers.Flatten())\n",
    "\n",
    "#Step 4 - Full Connection\n",
    "cnn.add(tf.keras.layers.Dense(units=128, activation='relu'))\n",
    "\n",
    "#Step 5 - Layer output (digunakan SVM linear untuk binary classification)\n",
    "cnn.add(Dense(1, kernel_regularizer=tf.keras.regularizers.l2(0.01),activation='linear'))"
   ]
  },
  {
   "cell_type": "code",
   "execution_count": 6,
   "id": "7ffcc46a",
   "metadata": {
    "scrolled": true
   },
   "outputs": [
    {
     "name": "stdout",
     "output_type": "stream",
     "text": [
      "Model: \"sequential\"\n",
      "_________________________________________________________________\n",
      " Layer (type)                Output Shape              Param #   \n",
      "=================================================================\n",
      " conv2d (Conv2D)             (None, 32, 32, 32)        896       \n",
      "                                                                 \n",
      " max_pooling2d (MaxPooling2D  (None, 16, 16, 32)       0         \n",
      " )                                                               \n",
      "                                                                 \n",
      " conv2d_1 (Conv2D)           (None, 16, 16, 32)        9248      \n",
      "                                                                 \n",
      " max_pooling2d_1 (MaxPooling  (None, 8, 8, 32)         0         \n",
      " 2D)                                                             \n",
      "                                                                 \n",
      " flatten (Flatten)           (None, 2048)              0         \n",
      "                                                                 \n",
      " dense (Dense)               (None, 128)               262272    \n",
      "                                                                 \n",
      " dense_1 (Dense)             (None, 1)                 129       \n",
      "                                                                 \n",
      "=================================================================\n",
      "Total params: 272,545\n",
      "Trainable params: 272,545\n",
      "Non-trainable params: 0\n",
      "_________________________________________________________________\n"
     ]
    }
   ],
   "source": [
    "cnn.summary()"
   ]
  },
  {
   "cell_type": "code",
   "execution_count": 7,
   "id": "8c80e56b",
   "metadata": {},
   "outputs": [
    {
     "name": "stdout",
     "output_type": "stream",
     "text": [
      "Epoch 1/20\n",
      "7/8 [=========================>....] - ETA: 0s - loss: 1.0491 - accuracy: 0.5312"
     ]
    },
    {
     "name": "stderr",
     "output_type": "stream",
     "text": [
      "C:\\ProgramData\\Anaconda3\\lib\\site-packages\\PIL\\Image.py:959: UserWarning: Palette images with Transparency expressed in bytes should be converted to RGBA images\n",
      "  warnings.warn(\n"
     ]
    },
    {
     "name": "stdout",
     "output_type": "stream",
     "text": [
      "8/8 [==============================] - 7s 854ms/step - loss: 1.0544 - accuracy: 0.5250 - val_loss: 1.0359 - val_accuracy: 0.5000\n",
      "Epoch 2/20\n",
      "8/8 [==============================] - 6s 671ms/step - loss: 0.9861 - accuracy: 0.5000 - val_loss: 1.0018 - val_accuracy: 0.5000\n",
      "Epoch 3/20\n",
      "8/8 [==============================] - 6s 694ms/step - loss: 0.9142 - accuracy: 0.5000 - val_loss: 0.9149 - val_accuracy: 0.5000\n",
      "Epoch 4/20\n",
      "8/8 [==============================] - 6s 763ms/step - loss: 0.8784 - accuracy: 0.5042 - val_loss: 0.8288 - val_accuracy: 0.5167\n",
      "Epoch 5/20\n",
      "8/8 [==============================] - 6s 690ms/step - loss: 0.7156 - accuracy: 0.6458 - val_loss: 0.6967 - val_accuracy: 0.6833\n",
      "Epoch 6/20\n",
      "8/8 [==============================] - 6s 716ms/step - loss: 0.7696 - accuracy: 0.6458 - val_loss: 0.8811 - val_accuracy: 0.6833\n",
      "Epoch 7/20\n",
      "8/8 [==============================] - 6s 750ms/step - loss: 0.6746 - accuracy: 0.6625 - val_loss: 0.7441 - val_accuracy: 0.7500\n",
      "Epoch 8/20\n",
      "8/8 [==============================] - 6s 762ms/step - loss: 0.6328 - accuracy: 0.7417 - val_loss: 0.6423 - val_accuracy: 0.7167\n",
      "Epoch 9/20\n",
      "8/8 [==============================] - 6s 678ms/step - loss: 0.5939 - accuracy: 0.7292 - val_loss: 0.7191 - val_accuracy: 0.7167\n",
      "Epoch 10/20\n",
      "8/8 [==============================] - 6s 752ms/step - loss: 0.5925 - accuracy: 0.7042 - val_loss: 0.7107 - val_accuracy: 0.7167\n",
      "Epoch 11/20\n",
      "8/8 [==============================] - 6s 772ms/step - loss: 0.6153 - accuracy: 0.7542 - val_loss: 0.6758 - val_accuracy: 0.7167\n",
      "Epoch 12/20\n",
      "8/8 [==============================] - 6s 758ms/step - loss: 0.5866 - accuracy: 0.7375 - val_loss: 0.6993 - val_accuracy: 0.7167\n",
      "Epoch 13/20\n",
      "8/8 [==============================] - 6s 773ms/step - loss: 0.5261 - accuracy: 0.7583 - val_loss: 0.5556 - val_accuracy: 0.7667\n",
      "Epoch 14/20\n",
      "8/8 [==============================] - 6s 751ms/step - loss: 0.5073 - accuracy: 0.7917 - val_loss: 0.5313 - val_accuracy: 0.7500\n",
      "Epoch 15/20\n",
      "8/8 [==============================] - 6s 697ms/step - loss: 0.4845 - accuracy: 0.7500 - val_loss: 0.5971 - val_accuracy: 0.7833\n",
      "Epoch 16/20\n",
      "8/8 [==============================] - 6s 720ms/step - loss: 0.4738 - accuracy: 0.7750 - val_loss: 0.5253 - val_accuracy: 0.7667\n",
      "Epoch 17/20\n",
      "8/8 [==============================] - 6s 806ms/step - loss: 0.4953 - accuracy: 0.7833 - val_loss: 0.5385 - val_accuracy: 0.7667\n",
      "Epoch 18/20\n",
      "8/8 [==============================] - 6s 777ms/step - loss: 0.4951 - accuracy: 0.7542 - val_loss: 0.5502 - val_accuracy: 0.7500\n",
      "Epoch 19/20\n",
      "8/8 [==============================] - 6s 754ms/step - loss: 0.4584 - accuracy: 0.8042 - val_loss: 0.5199 - val_accuracy: 0.7833\n",
      "Epoch 20/20\n",
      "8/8 [==============================] - 6s 657ms/step - loss: 0.4335 - accuracy: 0.7833 - val_loss: 0.5403 - val_accuracy: 0.7667\n"
     ]
    }
   ],
   "source": [
    "# Tahap Training CNN\n",
    "\n",
    "#Compile CNN\n",
    "cnn.compile(optimizer = 'adam', loss = 'hinge', metrics = ['accuracy'])\n",
    "\n",
    "#Melatih CNN dengan training set dan evaluasi dengan test set\n",
    "r=cnn.fit(x = training_set, validation_data = test_set, epochs = 20)"
   ]
  },
  {
   "cell_type": "code",
   "execution_count": 8,
   "id": "8175353c",
   "metadata": {},
   "outputs": [
    {
     "data": {
      "image/png": "[encoded data removed]",
      "text/plain": [
       "<Figure size 640x480 with 1 Axes>"
      ]
     },
     "metadata": {},
     "output_type": "display_data"
    },
    {
     "data": {
      "image/png": "[encoded data removed]",
      "text/plain": [
       "<Figure size 640x480 with 1 Axes>"
      ]
     },
     "metadata": {},
     "output_type": "display_data"
    }
   ],
   "source": [
    "# Plotting loss\n",
    "import matplotlib.pyplot as plt\n",
    "plt.plot(r.history['loss'], label='train loss')\n",
    "plt.plot(r.history['val_loss'], label='val loss')\n",
    "plt.legend()\n",
    "plt.show()\n",
    "\n",
    "# Plotting akurasi\n",
    "plt.plot(r.history['accuracy'], label='train acc')\n",
    "plt.plot(r.history['val_accuracy'], label='val acc')\n",
    "plt.legend()\n",
    "plt.show()"
   ]
  },
  {
   "cell_type": "code",
   "execution_count": 9,
   "id": "b1e46848",
   "metadata": {},
   "outputs": [
    {
     "name": "stdout",
     "output_type": "stream",
     "text": [
      "Model: \"sequential\"\n",
      "_________________________________________________________________\n",
      " Layer (type)                Output Shape              Param #   \n",
      "=================================================================\n",
      " conv2d (Conv2D)             (None, 32, 32, 32)        896       \n",
      "                                                                 \n",
      " max_pooling2d (MaxPooling2D  (None, 16, 16, 32)       0         \n",
      " )                                                               \n",
      "                                                                 \n",
      " conv2d_1 (Conv2D)           (None, 16, 16, 32)        9248      \n",
      "                                                                 \n",
      " max_pooling2d_1 (MaxPooling  (None, 8, 8, 32)         0         \n",
      " 2D)                                                             \n",
      "                                                                 \n",
      " flatten (Flatten)           (None, 2048)              0         \n",
      "                                                                 \n",
      " dense (Dense)               (None, 128)               262272    \n",
      "                                                                 \n",
      " dense_1 (Dense)             (None, 1)                 129       \n",
      "                                                                 \n",
      "=================================================================\n",
      "Total params: 272,545\n",
      "Trainable params: 272,545\n",
      "Non-trainable params: 0\n",
      "_________________________________________________________________\n"
     ]
    }
   ],
   "source": [
    "from tensorflow.keras.models import load_model\n",
    "\n",
    "#Simpan model sebagai file\n",
    "cnn.save('model_banana_ripeness.h5')\n",
    "\n",
    "#Load model\n",
    "model = load_model('model_banana_ripeness.h5')\n",
    "\n",
    "model.summary()"
   ]
  },
  {
   "cell_type": "code",
   "execution_count": 5,
   "id": "ca1d77b8",
   "metadata": {},
   "outputs": [
    {
     "name": "stdout",
     "output_type": "stream",
     "text": [
      "1/1 [==============================] - 0s 46ms/step\n",
      "[[-0.2782767]]\n",
      "Pisang sudah matang\n"
     ]
    }
   ],
   "source": [
    "# Tes terhadap citra pisang yang sudah matang\n",
    "\n",
    "from tensorflow.keras.models import load_model\n",
    "cnn = load_model('model_banana_ripeness.h5')\n",
    "\n",
    "import numpy as np\n",
    "from tensorflow.keras.preprocessing import image\n",
    "test_image = image.load_img('dataset_banana/test/fully_ripe/Image_106.png', target_size = (64,64))\n",
    "test_image = image.img_to_array(test_image)\n",
    "test_image = test_image/255\n",
    "test_image = np.expand_dims(test_image, axis = 0)\n",
    "result = cnn.predict(test_image)\n",
    "\n",
    "print(result)\n",
    "if result[0] < 0:\n",
    "    print(\"Pisang sudah matang\")\n",
    "else:\n",
    "    print(\"Pisang belum matang\")"
   ]
  },
  {
   "cell_type": "code",
   "execution_count": 6,
   "id": "41007111",
   "metadata": {},
   "outputs": [
    {
     "name": "stdout",
     "output_type": "stream",
     "text": [
      "1/1 [==============================] - 0s 45ms/step\n",
      "[[1.5529327]]\n",
      "Pisang belum matang\n"
     ]
    }
   ],
   "source": [
    "# Tes terhadap citra pisang yang belum matang\n",
    "\n",
    "from tensorflow.keras.models import load_model\n",
    "cnn = load_model('model_banana_ripeness.h5')\n",
    "\n",
    "import numpy as np\n",
    "from tensorflow.keras.preprocessing import image\n",
    "test_image = image.load_img('dataset_banana/test/unripe/Image_1.jpeg', target_size = (64,64))\n",
    "test_image = image.img_to_array(test_image)\n",
    "test_image = test_image/255\n",
    "test_image = np.expand_dims(test_image, axis = 0)\n",
    "result = cnn.predict(test_image)\n",
    "\n",
    "print(result)\n",
    "if result[0] < 0:\n",
    "    print(\"Pisang sudah matang\")\n",
    "else:\n",
    "    print(\"Pisang belum matang\")"
   ]
  }
 ],
 "metadata": {
  "kernelspec": {
   "display_name": "Python 3 (ipykernel)",
   "language": "python",
   "name": "python3"
  },
  "language_info": {
   "codemirror_mode": {
    "name": "ipython",
    "version": 3
   },
   "file_extension": ".py",
   "mimetype": "text/x-python",
   "name": "python",
   "nbconvert_exporter": "python",
   "pygments_lexer": "ipython3",
   "version": "3.9.13"
  }
 },
 "nbformat": 4,
 "nbformat_minor": 5
}
